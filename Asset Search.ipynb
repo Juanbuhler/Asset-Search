{
 "cells": [
  {
   "cell_type": "markdown",
   "id": "02a2d524-6d5f-4637-b30e-7bf6ade40f01",
   "metadata": {},
   "source": [
    "# Asset Search\n",
    "\n",
    "Visualize and search image datasets"
   ]
  },
  {
   "cell_type": "code",
   "execution_count": 1,
   "id": "76a88b5e-5132-4d8e-ac6b-e17c592a743d",
   "metadata": {},
   "outputs": [],
   "source": [
    "\n",
    "from backend.search_manager import SearchManager\n",
    "from backend.config import ROOT_IMAGE_DIRECTORY\n",
    "from IPython.display import display, HTML\n",
    "\n",
    "# Function to generate HTML for displaying images in a grid\n",
    "def display_image_grid(thumbnails, columns=5):\n",
    "    html = '<div style=\"display: flex; flex-wrap: wrap; justify-content: center;\">'\n",
    "    for i, thumbnail in enumerate(thumbnails):\n",
    "        html += f'<div style=\"flex: 1 0 {100/columns}%; box-sizing: border-box; padding: 5px;\">'\n",
    "        html += f'<p style=\"text-align: center;\">{i}</p>'\n",
    "        html += f'<img src=\"{thumbnail}\" style=\"width: 100%; height: auto;\" />'\n",
    "        html += '</div>'\n",
    "    html += '</div>'\n",
    "    display(HTML(html))\n"
   ]
  },
  {
   "cell_type": "code",
   "execution_count": 2,
   "id": "c93498b6-0a7b-4e5a-9b8c-8976faf98c1c",
   "metadata": {},
   "outputs": [],
   "source": [
    "# Initialize search manager\n",
    "search_manager = SearchManager()"
   ]
  },
  {
   "cell_type": "code",
   "execution_count": 3,
   "id": "33d95018-0cc2-4a52-92f3-db5a02586dbd",
   "metadata": {},
   "outputs": [
    {
     "data": {
      "text/plain": [
       "8000"
      ]
     },
     "execution_count": 3,
     "metadata": {},
     "output_type": "execute_result"
    }
   ],
   "source": [
    "# Start HTTP server to serve images\n",
    "\n",
    "port = 8000\n",
    "base_url = f\"http://127.0.0.1:{port}/\"\n",
    "search_manager.start_http_server(ROOT_IMAGE_DIRECTORY, port)"
   ]
  },
  {
   "cell_type": "code",
   "execution_count": 4,
   "id": "6cfb3584-5525-4a1d-b132-df43b6cd8b1f",
   "metadata": {},
   "outputs": [
    {
     "name": "stdout",
     "output_type": "stream",
     "text": [
      "Available Datasets: ['10cats', 'CoolPics5K', 'Paintings', 'NASA', 'PomologicalWatercolors', 'Magnum', 'Words', 'Vintage Magazines', 'Paris en Photo', 'JB', 'Vintage Industrial', 'Stamps', 'jbuhler', 'Vintage Paperback', 'Tax Forms', 'Watches', 'Vintage Group Pictures']\n"
     ]
    }
   ],
   "source": [
    "# Select a dataset\n",
    "available_datasets = search_manager.get_available_datasets()\n",
    "print(\"Available Datasets:\", available_datasets)"
   ]
  },
  {
   "cell_type": "code",
   "execution_count": 5,
   "id": "2d496987-8229-4302-90e2-5779ceb6b1b9",
   "metadata": {},
   "outputs": [
    {
     "name": "stdout",
     "output_type": "stream",
     "text": [
      "Selected Dataset: All\n",
      "Performing text-based search...\n"
     ]
    },
    {
     "data": {
      "text/html": [
       "<div style=\"display: flex; flex-wrap: wrap; justify-content: center;\"><div style=\"flex: 1 0 20.0%; box-sizing: border-box; padding: 5px;\"><p style=\"text-align: center;\">0</p><img src=\"http://127.0.0.1:8000/jb/jbuhler11/jbuhler11.856.jpg\" style=\"width: 100%; height: auto;\" /></div><div style=\"flex: 1 0 20.0%; box-sizing: border-box; padding: 5px;\"><p style=\"text-align: center;\">1</p><img src=\"http://127.0.0.1:8000/jb/jbuhler.2181.jpg\" style=\"width: 100%; height: auto;\" /></div><div style=\"flex: 1 0 20.0%; box-sizing: border-box; padding: 5px;\"><p style=\"text-align: center;\">2</p><img src=\"http://127.0.0.1:8000/words/1187.jpg\" style=\"width: 100%; height: auto;\" /></div><div style=\"flex: 1 0 20.0%; box-sizing: border-box; padding: 5px;\"><p style=\"text-align: center;\">3</p><img src=\"http://127.0.0.1:8000/Stamps/25135831727.jpg\" style=\"width: 100%; height: auto;\" /></div><div style=\"flex: 1 0 20.0%; box-sizing: border-box; padding: 5px;\"><p style=\"text-align: center;\">4</p><img src=\"http://127.0.0.1:8000/jb/jbuhler11/jbuhler11.374.jpg\" style=\"width: 100%; height: auto;\" /></div><div style=\"flex: 1 0 20.0%; box-sizing: border-box; padding: 5px;\"><p style=\"text-align: center;\">5</p><img src=\"http://127.0.0.1:8000/Stamps/26491908058.jpg\" style=\"width: 100%; height: auto;\" /></div><div style=\"flex: 1 0 20.0%; box-sizing: border-box; padding: 5px;\"><p style=\"text-align: center;\">6</p><img src=\"http://127.0.0.1:8000/vintage_group_pictures/19668367294_640.jpg\" style=\"width: 100%; height: auto;\" /></div><div style=\"flex: 1 0 20.0%; box-sizing: border-box; padding: 5px;\"><p style=\"text-align: center;\">7</p><img src=\"http://127.0.0.1:8000/Paintings/Marc_Chagall_75.jpg\" style=\"width: 100%; height: auto;\" /></div><div style=\"flex: 1 0 20.0%; box-sizing: border-box; padding: 5px;\"><p style=\"text-align: center;\">8</p><img src=\"http://127.0.0.1:8000/jb/jbuhler11/jbuhler11.302.jpg\" style=\"width: 100%; height: auto;\" /></div><div style=\"flex: 1 0 20.0%; box-sizing: border-box; padding: 5px;\"><p style=\"text-align: center;\">9</p><img src=\"http://127.0.0.1:8000/jb/jbuhler10/juanmilo0.652.jpg\" style=\"width: 100%; height: auto;\" /></div><div style=\"flex: 1 0 20.0%; box-sizing: border-box; padding: 5px;\"><p style=\"text-align: center;\">10</p><img src=\"http://127.0.0.1:8000/Paintings/Paul_Klee_114.jpg\" style=\"width: 100%; height: auto;\" /></div><div style=\"flex: 1 0 20.0%; box-sizing: border-box; padding: 5px;\"><p style=\"text-align: center;\">11</p><img src=\"http://127.0.0.1:8000/Paintings/Mikhail_Vrubel_79.jpg\" style=\"width: 100%; height: auto;\" /></div><div style=\"flex: 1 0 20.0%; box-sizing: border-box; padding: 5px;\"><p style=\"text-align: center;\">12</p><img src=\"http://127.0.0.1:8000/Stamps/48007528711.jpg\" style=\"width: 100%; height: auto;\" /></div><div style=\"flex: 1 0 20.0%; box-sizing: border-box; padding: 5px;\"><p style=\"text-align: center;\">13</p><img src=\"http://127.0.0.1:8000/jb/jbuhler10/juanmilo0.0.jpg\" style=\"width: 100%; height: auto;\" /></div><div style=\"flex: 1 0 20.0%; box-sizing: border-box; padding: 5px;\"><p style=\"text-align: center;\">14</p><img src=\"http://127.0.0.1:8000/Stamps/47971642177.jpg\" style=\"width: 100%; height: auto;\" /></div><div style=\"flex: 1 0 20.0%; box-sizing: border-box; padding: 5px;\"><p style=\"text-align: center;\">15</p><img src=\"http://127.0.0.1:8000/Paintings/Edgar_Degas_652.jpg\" style=\"width: 100%; height: auto;\" /></div><div style=\"flex: 1 0 20.0%; box-sizing: border-box; padding: 5px;\"><p style=\"text-align: center;\">16</p><img src=\"http://127.0.0.1:8000/Stamps/25135832467.jpg\" style=\"width: 100%; height: auto;\" /></div><div style=\"flex: 1 0 20.0%; box-sizing: border-box; padding: 5px;\"><p style=\"text-align: center;\">17</p><img src=\"http://127.0.0.1:8000/jb/jbuhler11/jbuhler11.646.jpg\" style=\"width: 100%; height: auto;\" /></div><div style=\"flex: 1 0 20.0%; box-sizing: border-box; padding: 5px;\"><p style=\"text-align: center;\">18</p><img src=\"http://127.0.0.1:8000/jb/jbuhler11/jbuhler11.1194.jpg\" style=\"width: 100%; height: auto;\" /></div><div style=\"flex: 1 0 20.0%; box-sizing: border-box; padding: 5px;\"><p style=\"text-align: center;\">19</p><img src=\"http://127.0.0.1:8000/jb/jbuhler10/juanmilo0.279.jpg\" style=\"width: 100%; height: auto;\" /></div></div>"
      ],
      "text/plain": [
       "<IPython.core.display.HTML object>"
      ]
     },
     "metadata": {},
     "output_type": "display_data"
    }
   ],
   "source": [
    "# Select \"All\" to search on all the images, othersie use the dataset name\n",
    "# Embeddings are cached, so the first search will take longer than subsequent ones\n",
    "\n",
    "selected_dataset = \"All\"\n",
    "print(\"Selected Dataset:\", selected_dataset)\n",
    "\n",
    "# Perform a text-based search\n",
    "query = \"dog\"\n",
    "n_neighbors = 20\n",
    "results = search_manager.perform_similarity_search(query, selected_dataset, n_neighbors)\n",
    "\n",
    "# Get thumbnails for search results\n",
    "thumbnails, uris = search_manager.get_thumbnails(selected_dataset, \n",
    "                                                 search_results=[result[0] for result in results], \n",
    "                                                 base_url=base_url, \n",
    "                                                 base_path=ROOT_IMAGE_DIRECTORY)\n",
    "\n",
    "\n",
    "# Display thumbnails as a grid\n",
    "display_image_grid(thumbnails, columns=5)"
   ]
  },
  {
   "cell_type": "code",
   "execution_count": 6,
   "id": "29da289e-f788-449f-886b-a9f13fbe753a",
   "metadata": {},
   "outputs": [
    {
     "data": {
      "text/html": [
       "<div style=\"display: flex; flex-wrap: wrap; justify-content: center;\"><div style=\"flex: 1 0 10.0%; box-sizing: border-box; padding: 5px;\"><p style=\"text-align: center;\">0</p><img src=\"http://127.0.0.1:8000/Paintings/Marc_Chagall_75.jpg\" style=\"width: 100%; height: auto;\" /></div><div style=\"flex: 1 0 10.0%; box-sizing: border-box; padding: 5px;\"><p style=\"text-align: center;\">1</p><img src=\"http://127.0.0.1:8000/Paintings/Marc_Chagall_54.jpg\" style=\"width: 100%; height: auto;\" /></div><div style=\"flex: 1 0 10.0%; box-sizing: border-box; padding: 5px;\"><p style=\"text-align: center;\">2</p><img src=\"http://127.0.0.1:8000/Paintings/Marc_Chagall_71.jpg\" style=\"width: 100%; height: auto;\" /></div><div style=\"flex: 1 0 10.0%; box-sizing: border-box; padding: 5px;\"><p style=\"text-align: center;\">3</p><img src=\"http://127.0.0.1:8000/Paintings/Marc_Chagall_63.jpg\" style=\"width: 100%; height: auto;\" /></div><div style=\"flex: 1 0 10.0%; box-sizing: border-box; padding: 5px;\"><p style=\"text-align: center;\">4</p><img src=\"http://127.0.0.1:8000/Paintings/Marc_Chagall_10.jpg\" style=\"width: 100%; height: auto;\" /></div><div style=\"flex: 1 0 10.0%; box-sizing: border-box; padding: 5px;\"><p style=\"text-align: center;\">5</p><img src=\"http://127.0.0.1:8000/Paintings/Vincent_van_Gogh_427.jpg\" style=\"width: 100%; height: auto;\" /></div><div style=\"flex: 1 0 10.0%; box-sizing: border-box; padding: 5px;\"><p style=\"text-align: center;\">6</p><img src=\"http://127.0.0.1:8000/Paintings/Mikhail_Vrubel_79.jpg\" style=\"width: 100%; height: auto;\" /></div><div style=\"flex: 1 0 10.0%; box-sizing: border-box; padding: 5px;\"><p style=\"text-align: center;\">7</p><img src=\"http://127.0.0.1:8000/Paintings/Marc_Chagall_66.jpg\" style=\"width: 100%; height: auto;\" /></div><div style=\"flex: 1 0 10.0%; box-sizing: border-box; padding: 5px;\"><p style=\"text-align: center;\">8</p><img src=\"http://127.0.0.1:8000/Paintings/Marc_Chagall_65.jpg\" style=\"width: 100%; height: auto;\" /></div><div style=\"flex: 1 0 10.0%; box-sizing: border-box; padding: 5px;\"><p style=\"text-align: center;\">9</p><img src=\"http://127.0.0.1:8000/Paintings/Marc_Chagall_128.jpg\" style=\"width: 100%; height: auto;\" /></div><div style=\"flex: 1 0 10.0%; box-sizing: border-box; padding: 5px;\"><p style=\"text-align: center;\">10</p><img src=\"http://127.0.0.1:8000/Paintings/Edgar_Degas_258.jpg\" style=\"width: 100%; height: auto;\" /></div><div style=\"flex: 1 0 10.0%; box-sizing: border-box; padding: 5px;\"><p style=\"text-align: center;\">11</p><img src=\"http://127.0.0.1:8000/Paintings/Marc_Chagall_143.jpg\" style=\"width: 100%; height: auto;\" /></div><div style=\"flex: 1 0 10.0%; box-sizing: border-box; padding: 5px;\"><p style=\"text-align: center;\">12</p><img src=\"http://127.0.0.1:8000/Paintings/Vincent_van_Gogh_562.jpg\" style=\"width: 100%; height: auto;\" /></div><div style=\"flex: 1 0 10.0%; box-sizing: border-box; padding: 5px;\"><p style=\"text-align: center;\">13</p><img src=\"http://127.0.0.1:8000/vintage_magazines/28969069808_640.jpg\" style=\"width: 100%; height: auto;\" /></div><div style=\"flex: 1 0 10.0%; box-sizing: border-box; padding: 5px;\"><p style=\"text-align: center;\">14</p><img src=\"http://127.0.0.1:8000/Paintings/Marc_Chagall_41.jpg\" style=\"width: 100%; height: auto;\" /></div><div style=\"flex: 1 0 10.0%; box-sizing: border-box; padding: 5px;\"><p style=\"text-align: center;\">15</p><img src=\"http://127.0.0.1:8000/vintage_magazines/17468199296_640.jpg\" style=\"width: 100%; height: auto;\" /></div><div style=\"flex: 1 0 10.0%; box-sizing: border-box; padding: 5px;\"><p style=\"text-align: center;\">16</p><img src=\"http://127.0.0.1:8000/Paintings/Marc_Chagall_49.jpg\" style=\"width: 100%; height: auto;\" /></div><div style=\"flex: 1 0 10.0%; box-sizing: border-box; padding: 5px;\"><p style=\"text-align: center;\">17</p><img src=\"http://127.0.0.1:8000/Paintings/Marc_Chagall_84.jpg\" style=\"width: 100%; height: auto;\" /></div><div style=\"flex: 1 0 10.0%; box-sizing: border-box; padding: 5px;\"><p style=\"text-align: center;\">18</p><img src=\"http://127.0.0.1:8000/Paintings/Marc_Chagall_29.jpg\" style=\"width: 100%; height: auto;\" /></div><div style=\"flex: 1 0 10.0%; box-sizing: border-box; padding: 5px;\"><p style=\"text-align: center;\">19</p><img src=\"http://127.0.0.1:8000/Paintings/Mikhail_Vrubel_5.jpg\" style=\"width: 100%; height: auto;\" /></div><div style=\"flex: 1 0 10.0%; box-sizing: border-box; padding: 5px;\"><p style=\"text-align: center;\">20</p><img src=\"http://127.0.0.1:8000/Paintings/Vincent_van_Gogh_485.jpg\" style=\"width: 100%; height: auto;\" /></div><div style=\"flex: 1 0 10.0%; box-sizing: border-box; padding: 5px;\"><p style=\"text-align: center;\">21</p><img src=\"http://127.0.0.1:8000/Paintings/Marc_Chagall_34.jpg\" style=\"width: 100%; height: auto;\" /></div><div style=\"flex: 1 0 10.0%; box-sizing: border-box; padding: 5px;\"><p style=\"text-align: center;\">22</p><img src=\"http://127.0.0.1:8000/Paintings/Marc_Chagall_59.jpg\" style=\"width: 100%; height: auto;\" /></div><div style=\"flex: 1 0 10.0%; box-sizing: border-box; padding: 5px;\"><p style=\"text-align: center;\">23</p><img src=\"http://127.0.0.1:8000/Paintings/Francisco_Goya_240.jpg\" style=\"width: 100%; height: auto;\" /></div><div style=\"flex: 1 0 10.0%; box-sizing: border-box; padding: 5px;\"><p style=\"text-align: center;\">24</p><img src=\"http://127.0.0.1:8000/Paintings/Vincent_van_Gogh_444.jpg\" style=\"width: 100%; height: auto;\" /></div><div style=\"flex: 1 0 10.0%; box-sizing: border-box; padding: 5px;\"><p style=\"text-align: center;\">25</p><img src=\"http://127.0.0.1:8000/Paintings/Marc_Chagall_47.jpg\" style=\"width: 100%; height: auto;\" /></div><div style=\"flex: 1 0 10.0%; box-sizing: border-box; padding: 5px;\"><p style=\"text-align: center;\">26</p><img src=\"http://127.0.0.1:8000/Paintings/Marc_Chagall_114.jpg\" style=\"width: 100%; height: auto;\" /></div><div style=\"flex: 1 0 10.0%; box-sizing: border-box; padding: 5px;\"><p style=\"text-align: center;\">27</p><img src=\"http://127.0.0.1:8000/Paintings/Marc_Chagall_50.jpg\" style=\"width: 100%; height: auto;\" /></div><div style=\"flex: 1 0 10.0%; box-sizing: border-box; padding: 5px;\"><p style=\"text-align: center;\">28</p><img src=\"http://127.0.0.1:8000/vintage_paperback/6230034685_640.jpg\" style=\"width: 100%; height: auto;\" /></div><div style=\"flex: 1 0 10.0%; box-sizing: border-box; padding: 5px;\"><p style=\"text-align: center;\">29</p><img src=\"http://127.0.0.1:8000/Paintings/Vincent_van_Gogh_784.jpg\" style=\"width: 100%; height: auto;\" /></div><div style=\"flex: 1 0 10.0%; box-sizing: border-box; padding: 5px;\"><p style=\"text-align: center;\">30</p><img src=\"http://127.0.0.1:8000/Paintings/Marc_Chagall_85.jpg\" style=\"width: 100%; height: auto;\" /></div><div style=\"flex: 1 0 10.0%; box-sizing: border-box; padding: 5px;\"><p style=\"text-align: center;\">31</p><img src=\"http://127.0.0.1:8000/Paintings/Marc_Chagall_35.jpg\" style=\"width: 100%; height: auto;\" /></div><div style=\"flex: 1 0 10.0%; box-sizing: border-box; padding: 5px;\"><p style=\"text-align: center;\">32</p><img src=\"http://127.0.0.1:8000/Paintings/Marc_Chagall_110.jpg\" style=\"width: 100%; height: auto;\" /></div><div style=\"flex: 1 0 10.0%; box-sizing: border-box; padding: 5px;\"><p style=\"text-align: center;\">33</p><img src=\"http://127.0.0.1:8000/vintage_magazines/20590116540_640.jpg\" style=\"width: 100%; height: auto;\" /></div><div style=\"flex: 1 0 10.0%; box-sizing: border-box; padding: 5px;\"><p style=\"text-align: center;\">34</p><img src=\"http://127.0.0.1:8000/Paintings/Marc_Chagall_62.jpg\" style=\"width: 100%; height: auto;\" /></div><div style=\"flex: 1 0 10.0%; box-sizing: border-box; padding: 5px;\"><p style=\"text-align: center;\">35</p><img src=\"http://127.0.0.1:8000/vintage_magazines/31695950515_640.jpg\" style=\"width: 100%; height: auto;\" /></div><div style=\"flex: 1 0 10.0%; box-sizing: border-box; padding: 5px;\"><p style=\"text-align: center;\">36</p><img src=\"http://127.0.0.1:8000/Paintings/Mikhail_Vrubel_158.jpg\" style=\"width: 100%; height: auto;\" /></div><div style=\"flex: 1 0 10.0%; box-sizing: border-box; padding: 5px;\"><p style=\"text-align: center;\">37</p><img src=\"http://127.0.0.1:8000/Paintings/Marc_Chagall_53.jpg\" style=\"width: 100%; height: auto;\" /></div><div style=\"flex: 1 0 10.0%; box-sizing: border-box; padding: 5px;\"><p style=\"text-align: center;\">38</p><img src=\"http://127.0.0.1:8000/Paintings/Marc_Chagall_86.jpg\" style=\"width: 100%; height: auto;\" /></div><div style=\"flex: 1 0 10.0%; box-sizing: border-box; padding: 5px;\"><p style=\"text-align: center;\">39</p><img src=\"http://127.0.0.1:8000/Paintings/Marc_Chagall_125.jpg\" style=\"width: 100%; height: auto;\" /></div></div>"
      ],
      "text/plain": [
       "<IPython.core.display.HTML object>"
      ]
     },
     "metadata": {},
     "output_type": "display_data"
    }
   ],
   "source": [
    "n_neighbors = 40\n",
    "\n",
    "search_id = 7\n",
    "\n",
    "anchor = results[search_id][0]\n",
    "\n",
    "results = search_manager.perform_similarity_search(anchor, selected_dataset, n_neighbors)\n",
    "\n",
    "# Get thumbnails for search results\n",
    "thumbnails, uris = search_manager.get_thumbnails(selected_dataset, \n",
    "                                                 search_results=[result[0] for result in results], \n",
    "                                                 base_url=base_url, \n",
    "                                                 base_path=ROOT_IMAGE_DIRECTORY)\n",
    "\n",
    "# Display thumbnails as a grid\n",
    "display_image_grid(thumbnails, columns=10)"
   ]
  },
  {
   "cell_type": "code",
   "execution_count": null,
   "id": "740d44dd-c0cd-4a45-8b6f-9a8fa52b0858",
   "metadata": {},
   "outputs": [],
   "source": []
  }
 ],
 "metadata": {
  "kernelspec": {
   "display_name": "Python 3 (ipykernel)",
   "language": "python",
   "name": "python3"
  },
  "language_info": {
   "codemirror_mode": {
    "name": "ipython",
    "version": 3
   },
   "file_extension": ".py",
   "mimetype": "text/x-python",
   "name": "python",
   "nbconvert_exporter": "python",
   "pygments_lexer": "ipython3",
   "version": "3.10.13"
  }
 },
 "nbformat": 4,
 "nbformat_minor": 5
}
